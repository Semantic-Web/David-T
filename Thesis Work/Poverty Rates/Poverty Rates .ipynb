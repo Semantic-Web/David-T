{
 "cells": [
  {
   "cell_type": "code",
   "execution_count": 102,
   "metadata": {
    "collapsed": false
   },
   "outputs": [],
   "source": [
    "import pandas as pd\n",
    "import pylab\n",
    "import xlrd\n",
    "import csv\n",
    "import us\n",
    "import matplotlib.pyplot as plt\n",
    "import plotly.plotly as py\n",
    "import plotly.tools as tls\n",
    "from plotly.graph_objs import *\n",
    "from IPython.lib.pretty import pprint\n",
    "from pandas import *\n",
    "from pylab import *\n",
    "from tabulate import tabulate\n",
    "# Enable inline plotting\n",
    "%matplotlib inline"
   ]
  },
  {
   "cell_type": "code",
   "execution_count": 146,
   "metadata": {
    "collapsed": false
   },
   "outputs": [],
   "source": [
    "states = us.states.STATES\n",
    "statesDf = pd.DataFrame(data = states, columns=['States'])\n",
    "\n",
    "statesDf.head()\n",
    "# read in data\n",
    "countydata = read_csv('data/CountyPovertRates.csv')\n",
    "citydata = read_csv('data/City_PovertRates.csv')\n",
    "statedata = read_csv('data/State_PovertRates.csv')\n",
    "metrodata = read_csv('data/Metro_PovertRates.csv')\n",
    "\n",
    "#print('--------------')\n",
    "countydata = pd.DataFrame(countydata, columns=['Geographic Area', 'Percent','Margin of Error','State'])\n",
    "countydata.rename(columns={'Geographic Area': 'County', 'Percent':'Percent','Margin of Error':'Margin_of_Error'}, inplace=True)\n",
    "#print countydata.head()\n",
    "#print('--------------\\n')\n",
    "citydata = pd.DataFrame(citydata, columns=['Geographic Area', 'Percent','Margin of Error','State'])\n",
    "citydata.rename(columns={'Geographic Area': 'City', 'Percent':'Percent','Margin of Error':'Margin_of_Error'}, inplace=True)\n",
    "#print citydata.head()\n",
    "#print('--------------\\n')\n",
    "\n",
    "statedata = pd.DataFrame(statedata, columns=['Geographic Area', 'Percent','Margin of Error'])\n",
    "statedata.rename(columns={'Geographic Area': 'State', 'Percent':'Percent','Margin of Error':'Margin_of_Error'}, inplace=True)\n",
    "#print statedata.head()\n",
    "\n",
    "#print('--------------')\n",
    "metrodata = pd.DataFrame(metrodata, columns=['Geographic Area', 'Percent','Margin of Error'])\n",
    "metrodata.rename(columns={'Geographic Area': 'Metro_Area', 'Percent':'Percent','Margin of Error':'Margin_of_Error'}, inplace=True)\n",
    "#print metrodata.head()"
   ]
  },
  {
   "cell_type": "code",
   "execution_count": 148,
   "metadata": {
    "collapsed": false,
    "scrolled": true
   },
   "outputs": [
    {
     "name": "stdout",
     "output_type": "stream",
     "text": [
      "Top Ten COUNTIES Percentage of People Below Poverty Level\n",
      "_______________________________________________________\n",
      "  PERCENT  COUNTY           ERROR    STATE\n",
      "---------  ---------------  -------  ----------\n",
      "     42.4  McKinley County  +/-4.1   New Mexico\n",
      "     40.1  Apache County    +/-4.1   Arizona\n",
      "     37.7  Clarke County    +/-3.6   Georgia\n",
      "     34.3  Hidalgo County   +/-2.0   Texas\n",
      "     32.7  Navajo County    +/-3.8   Arizona\n",
      "     32.5  Cameron County   +/-2.2   Texas\n",
      "     32.4  Bulloch County   +/-5.1   Georgia\n",
      "     31.1  Webb County      +/-4.7   Texas\n",
      "     30.9  Bronx County     +/-1.1   New York\n",
      "     30.8  Isabella County  +/-3.4   Michigan\n",
      "\n",
      "\n",
      "Bottom Ten COUNTIES Percentage of People Below Poverty Level\n",
      "__________________________________________________________\n",
      "  PERCENT  COUNTY             ERROR    STATE\n",
      "---------  -----------------  -------  ----------\n",
      "      3.2  Douglas County     +/-1.1   Colorado\n",
      "      3.3  Hunterdon County   +/-1.0   New Jersey\n",
      "      3.9  Loudoun County     +/-0.9   Virginia\n",
      "      4.3  Morris County      +/-1.4   Virginia\n",
      "      4.4  Putnam County      +/-1.6   New York\n",
      "      4.5  Howard County      +/-1.4   Minnesota\n",
      "      4.8  Hancock County     +/-1.9   Indiana\n",
      "      4.9  Williamson County  +/-1.9   Virginia\n",
      "      5.3  Tolland County     +/-1.5   Oklahoma\n",
      "      5.5  Sherburne County   +/-1.6   Minnesota\n"
     ]
    }
   ],
   "source": [
    "topCounty = countydata.groupby('Percent').max()\n",
    "topCounty = pd.DataFrame(topCounty.tail(10)[::-1])\n",
    "bottomCounty = countydata.groupby('Percent').max()\n",
    "bottomCounty = bottomCounty.head(10)\n",
    "countyheaders = ['PERCENT', 'COUNTY','ERROR','STATE']\n",
    "print('Top Ten COUNTIES Percentage of People Below Poverty Level')\n",
    "print('_______________________________________________________')\n",
    "print tabulate(topCounty,countyheaders)\n",
    "print ('\\n')\n",
    "print('Bottom Ten COUNTIES Percentage of People Below Poverty Level')\n",
    "print('__________________________________________________________')\n",
    "print tabulate(bottomCounty,countyheaders)"
   ]
  },
  {
   "cell_type": "code",
   "execution_count": 117,
   "metadata": {
    "collapsed": false
   },
   "outputs": [
    {
     "name": "stdout",
     "output_type": "stream",
     "text": [
      "Top Ten Cities Percentage of People Below Poverty Level\n",
      "_______________________________________________________\n",
      "  PERCENT  CITY                                               ERROR    STATE\n",
      "---------  -------------------------------------------------  -------  ------------\n",
      "     42.6  Camden city                                        +/-5.7   New Jersey\n",
      "     41.8  Flint city                                         +/-4.6   Michigan\n",
      "     41    Gary city                                          +/-4.6   Indiana\n",
      "     40.7  Detroit city                                       +/-1.7   Michigan\n",
      "     40.3  Bloomington city                                   +/-4.0   Indiana\n",
      "     40.2  Youngstown city                                    +/-4.3   Ohio\n",
      "     39.6  Reading city                                       +/-5.2   Pennsylvania\n",
      "     38.6  Macon city                                         +/-4.8   Georgia\n",
      "     38    Athens-Clarke County unified government (balance)  +/-3.6   Georgia\n",
      "     36.9  Cleveland city                                     +/-2.0   Ohio\n",
      "\n",
      "\n",
      "Bottom Ten Cities Percentage of People Below Poverty Level\n",
      "__________________________________________________________\n",
      "  PERCENT  CITY                 ERROR    STATE\n",
      "---------  -------------------  -------  ----------\n",
      "      2.2  Chino Hills city     +/-1.0   California\n",
      "      2.3  Flower Mound town    +/-1.4   Texas\n",
      "      2.5  Highlands Ranch CDP  +/-1.6   Colorado\n",
      "      2.7  Sugar Land city      +/-1.4   Texas\n",
      "      2.8  Bethesda CDP         +/-1.2   Maryland\n",
      "      3    Woodbury city        +/-1.9   Minnesota\n",
      "      3.5  Livonia city         +/-1.7   Michigan\n",
      "      3.8  Toms River CDP       +/-1.3   New Jersey\n",
      "      4    Johns Creek city     +/-2.3   Georgia\n",
      "      4.1  Yorba Linda city     +/-2.9   Missouri\n"
     ]
    }
   ],
   "source": [
    "topCity = citydata.groupby('Percent').max()\n",
    "topCity = pd.DataFrame(topCity.tail(10)[::-1])\n",
    "bottomCity = citydata.groupby('Percent').max()\n",
    "bottomCity = pd.DataFrame(bottomCity.head(10))\n",
    "cityheaders = ['PERCENT', 'CITY','ERROR','STATE']\n",
    "print('Top Ten Cities Percentage of People Below Poverty Level')\n",
    "print('_______________________________________________________')\n",
    "print tabulate(topCity,cityheaders)\n",
    "print ('\\n')\n",
    "print('Bottom Ten Cities Percentage of People Below Poverty Level')\n",
    "print('__________________________________________________________')\n",
    "print tabulate(bottomCity,cityheaders)"
   ]
  },
  {
   "cell_type": "code",
   "execution_count": 118,
   "metadata": {
    "collapsed": false
   },
   "outputs": [
    {
     "name": "stdout",
     "output_type": "stream",
     "text": [
      "Top Ten STATES Percentage of People Below Poverty Level\n",
      "_______________________________________________________\n",
      "  PERCENT  CITY                  ERROR\n",
      "---------  --------------------  -------\n",
      "     24    Mississippi           +/-0.8\n",
      "     21.9  New Mexico            +/-0.7\n",
      "     19.8  Louisiana             +/-0.5\n",
      "     19.7  Arkansas              +/-0.6\n",
      "     19    Georgia               +/-0.4\n",
      "     18.9  District of Columbia  +/-1.2\n",
      "     18.8  Kentucky              +/-0.5\n",
      "     18.7  Alabama               +/-0.4\n",
      "     18.6  South Carolina        +/-0.5\n",
      "     18.5  West Virginia         +/-0.7\n",
      "\n",
      "\n",
      "Bottom Ten STATES Percentage of People Below Poverty Level\n",
      "__________________________________________________________\n",
      "  PERCENT  CITY           ERROR\n",
      "---------  -------------  -------\n",
      "      8.7  New Hampshire  +/-0.7\n",
      "      9.3  Alaska         +/-0.7\n",
      "     10.1  Maryland       +/-0.3\n",
      "     10.7  Connecticut    +/-0.4\n",
      "     10.8  Hawaii         +/-0.8\n",
      "     10.9  Wyoming        +/-1.0\n",
      "     11.2  Minnesota      +/-0.3\n",
      "     11.4  New Jersey     +/-0.3\n",
      "     11.7  Virginia       +/-0.3\n",
      "     11.8  North Dakota   +/-0.7\n"
     ]
    }
   ],
   "source": [
    "topState = statedata.groupby('Percent').max()\n",
    "topState = pd.DataFrame(topState.tail(10)[::-1])\n",
    "bottomState = statedata.groupby('Percent').max()\n",
    "bottomState = pd.DataFrame(bottomState.head(10))\n",
    "stateheaders = ['PERCENT', 'STATE','ERROR']\n",
    "print('Top Ten STATES Percentage of People Below Poverty Level')\n",
    "print('_______________________________________________________')\n",
    "print tabulate(topState,cityheaders)\n",
    "print ('\\n')\n",
    "print('Bottom Ten STATES Percentage of People Below Poverty Level')\n",
    "print('__________________________________________________________')\n",
    "print tabulate(bottomState,cityheaders)"
   ]
  },
  {
   "cell_type": "code",
   "execution_count": 138,
   "metadata": {
    "collapsed": false
   },
   "outputs": [
    {
     "data": {
      "text/html": [
       "<iframe id=\"igraph\" scrolling=\"no\" style=\"border:none;\"seamless=\"seamless\" src=\"https://plot.ly/~dterrel3/89.embed\" height=\"525\" width=\"100%\"></iframe>"
      ],
      "text/plain": [
       "<plotly.tools.PlotlyDisplay object>"
      ]
     },
     "execution_count": 138,
     "metadata": {},
     "output_type": "execute_result"
    }
   ],
   "source": [
    "tls.embed(\"https://plot.ly/~dterrel3/89\")"
   ]
  },
  {
   "cell_type": "code",
   "execution_count": 139,
   "metadata": {
    "collapsed": false
   },
   "outputs": [
    {
     "data": {
      "text/html": [
       "<iframe id=\"igraph\" scrolling=\"no\" style=\"border:none;\"seamless=\"seamless\" src=\"https://plot.ly/~dterrel3/100.embed\" height=\"525\" width=\"100%\"></iframe>"
      ],
      "text/plain": [
       "<plotly.tools.PlotlyDisplay object>"
      ]
     },
     "execution_count": 139,
     "metadata": {},
     "output_type": "execute_result"
    }
   ],
   "source": [
    "tls.embed(\"https://plot.ly/~dterrel3/100\")"
   ]
  },
  {
   "cell_type": "code",
   "execution_count": 140,
   "metadata": {
    "collapsed": false
   },
   "outputs": [
    {
     "data": {
      "text/html": [
       "<iframe id=\"igraph\" scrolling=\"no\" style=\"border:none;\"seamless=\"seamless\" src=\"https://plot.ly/~dterrel3/216.embed\" height=\"525\" width=\"100%\"></iframe>"
      ],
      "text/plain": [
       "<plotly.tools.PlotlyDisplay object>"
      ]
     },
     "execution_count": 140,
     "metadata": {},
     "output_type": "execute_result"
    }
   ],
   "source": [
    "tls.embed(\"https://plot.ly/~dterrel3/216\")"
   ]
  },
  {
   "cell_type": "code",
   "execution_count": 144,
   "metadata": {
    "collapsed": false
   },
   "outputs": [
    {
     "data": {
      "text/html": [
       "<iframe id=\"igraph\" scrolling=\"no\" style=\"border:none;\"seamless=\"seamless\" src=\"https://plot.ly/~dterrel3/225.embed\" height=\"525\" width=\"100%\"></iframe>"
      ],
      "text/plain": [
       "<plotly.tools.PlotlyDisplay object>"
      ]
     },
     "execution_count": 144,
     "metadata": {},
     "output_type": "execute_result"
    }
   ],
   "source": [
    "tls.embed(\"https://plot.ly/~dterrel3/225\")"
   ]
  },
  {
   "cell_type": "code",
   "execution_count": 141,
   "metadata": {
    "collapsed": false
   },
   "outputs": [
    {
     "data": {
      "text/html": [
       "<iframe id=\"igraph\" scrolling=\"no\" style=\"border:none;\"seamless=\"seamless\" src=\"https://plot.ly/~dterrel3/230.embed\" height=\"525\" width=\"100%\"></iframe>"
      ],
      "text/plain": [
       "<plotly.tools.PlotlyDisplay object>"
      ]
     },
     "execution_count": 141,
     "metadata": {},
     "output_type": "execute_result"
    }
   ],
   "source": [
    "tls.embed(\"https://plot.ly/~dterrel3/230\")"
   ]
  },
  {
   "cell_type": "code",
   "execution_count": 142,
   "metadata": {
    "collapsed": false
   },
   "outputs": [
    {
     "data": {
      "text/html": [
       "<iframe id=\"igraph\" scrolling=\"no\" style=\"border:none;\"seamless=\"seamless\" src=\"https://plot.ly/~dterrel3/239.embed\" height=\"525\" width=\"100%\"></iframe>"
      ],
      "text/plain": [
       "<plotly.tools.PlotlyDisplay object>"
      ]
     },
     "execution_count": 142,
     "metadata": {},
     "output_type": "execute_result"
    }
   ],
   "source": [
    "tls.embed(\"https://plot.ly/~dterrel3/239\")"
   ]
  }
 ],
 "metadata": {
  "kernelspec": {
   "display_name": "Python 2",
   "language": "python",
   "name": "python2"
  },
  "language_info": {
   "codemirror_mode": {
    "name": "ipython",
    "version": 2
   },
   "file_extension": ".py",
   "mimetype": "text/x-python",
   "name": "python",
   "nbconvert_exporter": "python",
   "pygments_lexer": "ipython2",
   "version": "2.7.10"
  }
 },
 "nbformat": 4,
 "nbformat_minor": 0
}
